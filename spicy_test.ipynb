{
 "cells": [
  {
   "cell_type": "code",
   "execution_count": 6,
   "metadata": {},
   "outputs": [],
   "source": [
    "from scipy.stats import ortho_group\n",
    "from scipy.sparse import csc_matrix, diags\n",
    "from scipy.sparse.linalg import svds\n",
    "import numpy as np\n",
    "rng = np.random.default_rng()\n",
    "orthogonal = csc_matrix(ortho_group.rvs(10, random_state=rng))\n",
    "s = [0.0001, 0.001, 3, 4, 5]  # singular values\n",
    "u = orthogonal[:, :5]         # left singular vectors\n",
    "vT = orthogonal[:, 5:].T      # right singular vectors\n",
    "A = u @ diags(s) @ vT"
   ]
  },
  {
   "cell_type": "code",
   "execution_count": 7,
   "metadata": {},
   "outputs": [
    {
     "data": {
      "text/plain": [
       "True"
      ]
     },
     "execution_count": 7,
     "metadata": {},
     "output_type": "execute_result"
    }
   ],
   "source": [
    "u2, s2, vT2 = svds(A, k=3)\n",
    "A2 = u2 @ np.diag(s2) @ vT2\n",
    "np.allclose(A2, A.toarray(), atol=1e-3)"
   ]
  },
  {
   "cell_type": "code",
   "execution_count": 8,
   "metadata": {},
   "outputs": [
    {
     "data": {
      "text/plain": [
       "array([[-0.07145657,  0.03690721, -0.26427308],\n",
       "       [-0.50913266, -0.13758191,  0.37383002],\n",
       "       [-0.03830479,  0.44229136,  0.32752808],\n",
       "       [-0.43535273, -0.12122557,  0.09023338],\n",
       "       [-0.01540248,  0.06294428,  0.36591509],\n",
       "       [-0.49722014,  0.22220673, -0.08420368],\n",
       "       [ 0.14140839, -0.42586518,  0.65574284],\n",
       "       [ 0.40720341,  0.31345567,  0.26846334],\n",
       "       [-0.18375366,  0.62891138,  0.16914415],\n",
       "       [-0.27863447, -0.20225937, -0.05769794]])"
      ]
     },
     "execution_count": 8,
     "metadata": {},
     "output_type": "execute_result"
    }
   ],
   "source": [
    "u2"
   ]
  },
  {
   "cell_type": "code",
   "execution_count": 9,
   "metadata": {},
   "outputs": [
    {
     "data": {
      "text/plain": [
       "array([3., 4., 5.])"
      ]
     },
     "execution_count": 9,
     "metadata": {},
     "output_type": "execute_result"
    }
   ],
   "source": [
    "s2"
   ]
  },
  {
   "cell_type": "code",
   "execution_count": 10,
   "metadata": {},
   "outputs": [
    {
     "data": {
      "text/plain": [
       "array([[3., 0., 0.],\n",
       "       [0., 4., 0.],\n",
       "       [0., 0., 5.]])"
      ]
     },
     "execution_count": 10,
     "metadata": {},
     "output_type": "execute_result"
    }
   ],
   "source": [
    "np.diag(s2)"
   ]
  }
 ],
 "metadata": {
  "interpreter": {
   "hash": "987212beba703396f74c33891dd08bb2b9cc492c8e998129248611de3ea7e409"
  },
  "kernelspec": {
   "display_name": "Python 3.9.7",
   "language": "python",
   "name": "python3"
  },
  "language_info": {
   "codemirror_mode": {
    "name": "ipython",
    "version": 3
   },
   "file_extension": ".py",
   "mimetype": "text/x-python",
   "name": "python",
   "nbconvert_exporter": "python",
   "pygments_lexer": "ipython3",
   "version": "3.9.7"
  },
  "orig_nbformat": 4
 },
 "nbformat": 4,
 "nbformat_minor": 2
}
